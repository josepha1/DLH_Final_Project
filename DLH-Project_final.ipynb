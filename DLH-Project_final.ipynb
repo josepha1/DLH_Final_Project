{
 "cells": [
  {
   "cell_type": "markdown",
   "id": "245992ae",
   "metadata": {},
   "source": [
    "# Contextual Embeddings from Clinical Notes Improves Prediction of Sepsis"
   ]
  },
  {
   "cell_type": "code",
   "execution_count": 1,
   "id": "b3b432a8",
   "metadata": {},
   "outputs": [],
   "source": [
    "import warnings\n",
    "warnings.filterwarnings(\"ignore\")"
   ]
  },
  {
   "cell_type": "code",
   "execution_count": 2,
   "id": "23783582",
   "metadata": {},
   "outputs": [],
   "source": [
    "import pandas as pd\n",
    "import numpy as np\n",
    "import tensorflow as tf\n",
    "import keras\n",
    "import torch\n",
    "import numpy as np\n",
    "import re\n",
    "import tqdm\n",
    "import h5py\n",
    "import matplotlib.pyplot as plt\n",
    "from keras import Model\n",
    "from keras.models import load_model, Sequential\n",
    "from keras.layers import Dense, LSTM, Softmax, Input\n",
    "from sklearn.metrics import roc_auc_score, f1_score, accuracy_score, roc_curve\n",
    "from sklearn.model_selection import train_test_split\n",
    "from sklearn.feature_extraction.text import TfidfVectorizer\n",
    "from torch import tensor\n",
    "from transformers import AutoTokenizer, AutoModel\n",
    "from torch.autograd import Variable "
   ]
  },
  {
   "cell_type": "markdown",
   "id": "4a672dc5",
   "metadata": {},
   "source": [
    "## <span style = \"color:blue\">Preprocessing Data</span>"
   ]
  },
  {
   "cell_type": "code",
   "execution_count": 3,
   "id": "97109d1e",
   "metadata": {},
   "outputs": [],
   "source": [
    "def preprocess(x):\n",
    "    y = re.sub('\\\\[(.*?)\\\\]', '', x)  # remove de-identified brackets\n",
    "    y = re.sub('[0-9]+\\.', '', y)  # remove 1.2. since the segmenter segments based on this\n",
    "    y = re.sub('dr\\.', 'doctor', y)\n",
    "    y = re.sub('m\\.d\\.', 'md', y)\n",
    "    y = re.sub('admission date:', '', y)\n",
    "    y = re.sub('discharge date:', '', y)\n",
    "    y = re.sub('--|__|==', '', y)\n",
    "    return y"
   ]
  },
  {
   "cell_type": "code",
   "execution_count": 4,
   "id": "2f94c77d",
   "metadata": {},
   "outputs": [],
   "source": [
    "def preprocessing(df_less_n):\n",
    "    df_less_n['TEXT'] = df_less_n['TEXT'].fillna(' ')\n",
    "    df_less_n['TEXT'] = df_less_n['TEXT'].str.replace('\\n', ' ')\n",
    "    df_less_n['TEXT'] = df_less_n['TEXT'].str.replace('\\r', ' ')\n",
    "    df_less_n['TEXT'] = df_less_n['TEXT'].apply(str.strip)\n",
    "    df_less_n['TEXT'] = df_less_n['TEXT'].str.lower()\n",
    "\n",
    "    df_less_n['TEXT'] = df_less_n['TEXT'].apply(lambda x: preprocess(x))\n",
    "    \n",
    "    chunk_size = 140\n",
    "\n",
    "    # to get 512 words chunks for sepsis tasks\n",
    "    df_len = len(df_less_n)\n",
    "    want = pd.DataFrame({'ID': [], 'TEXT': [], 'Label': []})\n",
    "    for i in range(df_len):\n",
    "        x = df_less_n.TEXT.iloc[i].split()\n",
    "        n = int(len(x) / chunk_size)\n",
    "        for j in range(n):\n",
    "            want = want.append({'TEXT': ' '.join(x[j * chunk_size:(j + 1) * chunk_size]), 'Label': df_less_n.SEPSIS.iloc[i],\n",
    "                                'ID': df_less_n.SUBJECT_ID.iloc[i]}, ignore_index=True)\n",
    "        if len(x) % chunk_size > 10:\n",
    "            want = want.append({'TEXT': ' '.join(x[-(len(x) % chunk_size):]), 'Label': df_less_n.SEPSIS.iloc[i],\n",
    "                                'ID': df_less_n.HADM_IDleft.iloc[i]}, ignore_index=True)\n",
    "\n",
    "    return want"
   ]
  },
  {
   "cell_type": "code",
   "execution_count": 5,
   "id": "ce0dc1da",
   "metadata": {},
   "outputs": [],
   "source": [
    "clinical_notes = pd.read_csv('NOTEEVENTS.csv')\n",
    "diagnoses_icd = pd.read_csv('DIAGNOSES_ICD.csv')\n",
    "diagnoses_icd['SEPSIS'] = diagnoses_icd['ICD9_CODE'].apply(lambda x: True if x == '99591' else False) "
   ]
  },
  {
   "cell_type": "code",
   "execution_count": 6,
   "id": "bc9cfbbb",
   "metadata": {},
   "outputs": [],
   "source": [
    "clinical_notes_mod = clinical_notes.join(diagnoses_icd, lsuffix = 'left', rsuffix = 'right', on = 'SUBJECT_ID', how = 'inner')"
   ]
  },
  {
   "cell_type": "code",
   "execution_count": 7,
   "id": "182b13c0",
   "metadata": {},
   "outputs": [],
   "source": [
    "new_clinical_notes = clinical_notes_mod[['SUBJECT_ID', 'HADM_IDleft', 'ROW_IDleft', 'ROW_IDright', 'CATEGORY', 'DESCRIPTION', 'TEXT',\n",
    "                                        'SEPSIS', 'ICD9_CODE']]\n",
    "text = new_clinical_notes.TEXT"
   ]
  },
  {
   "cell_type": "code",
   "execution_count": 8,
   "id": "04e1cd09",
   "metadata": {},
   "outputs": [],
   "source": [
    "sepsis_df = new_clinical_notes[new_clinical_notes.ICD9_CODE == '99591']\n",
    "not_sepsis_df = new_clinical_notes[new_clinical_notes.ICD9_CODE != '99591']"
   ]
  },
  {
   "cell_type": "code",
   "execution_count": 9,
   "id": "601ed203",
   "metadata": {},
   "outputs": [],
   "source": [
    "sepsis_sample = sepsis_df.sample(n = 250, random_state = 57)\n",
    "not_sepsis_sample = not_sepsis_df.sample(n = 250, random_state = 82)"
   ]
  },
  {
   "cell_type": "code",
   "execution_count": 10,
   "id": "f95412db",
   "metadata": {},
   "outputs": [],
   "source": [
    "sample_df = pd.concat([sepsis_sample, not_sepsis_sample], axis = 0)"
   ]
  },
  {
   "cell_type": "code",
   "execution_count": 11,
   "id": "3cefc551",
   "metadata": {},
   "outputs": [],
   "source": [
    "df_sample = new_clinical_notes.sample(n = 1000, random_state = 904)"
   ]
  },
  {
   "cell_type": "markdown",
   "id": "ad5cbdbb",
   "metadata": {},
   "source": [
    "## <span style = \"color:blue\">TF-IDF Implementation</span>"
   ]
  },
  {
   "cell_type": "code",
   "execution_count": 12,
   "id": "265061fe",
   "metadata": {},
   "outputs": [],
   "source": [
    "corpus = sample_df.TEXT.to_list()\n",
    "X = corpus\n",
    "labels = sample_df.SEPSIS.tolist()\n",
    "y = labels"
   ]
  },
  {
   "cell_type": "code",
   "execution_count": 13,
   "id": "5d8f794a",
   "metadata": {},
   "outputs": [],
   "source": [
    "vectorizer = TfidfVectorizer().fit(X)\n",
    "\n",
    "tfidf_vector_X = vectorizer.transform(X).toarray()"
   ]
  },
  {
   "cell_type": "code",
   "execution_count": 14,
   "id": "6e945d43",
   "metadata": {},
   "outputs": [],
   "source": [
    "X_train_tfidf, X_test_tfidf, y_train_tfidf, y_test_tfidf = train_test_split(tfidf_vector_X, labels,\n",
    "                                                                           test_size = 0.2, train_size = 0.8,\n",
    "                                                                           shuffle = True)"
   ]
  },
  {
   "cell_type": "code",
   "execution_count": 15,
   "id": "abc37d7c",
   "metadata": {},
   "outputs": [],
   "source": [
    "X_train_tfidf = np.reshape(X_train_tfidf, (X_train_tfidf.shape[0], 1, X_train_tfidf.shape[1]))\n",
    "X_test_tfidf = np.reshape(X_test_tfidf, (X_test_tfidf.shape[0], 1, X_test_tfidf.shape[1]))"
   ]
  },
  {
   "cell_type": "code",
   "execution_count": 16,
   "id": "b084266a",
   "metadata": {},
   "outputs": [],
   "source": [
    "# X_train_tfidf = X_train_tfidf.tolist()"
   ]
  },
  {
   "cell_type": "code",
   "execution_count": 17,
   "id": "83d568ab",
   "metadata": {},
   "outputs": [],
   "source": [
    "y_train_tfidf, y_test_tfidf = np.array(y_train_tfidf), np.array(y_test_tfidf)"
   ]
  },
  {
   "cell_type": "code",
   "execution_count": 18,
   "id": "8801bc37",
   "metadata": {},
   "outputs": [],
   "source": [
    "model = Sequential()\n",
    "model.add(LSTM(6573, input_shape = (None, 6573)))\n",
    "model.add(Softmax())"
   ]
  },
  {
   "cell_type": "code",
   "execution_count": 19,
   "id": "43e330cf",
   "metadata": {},
   "outputs": [
    {
     "name": "stdout",
     "output_type": "stream",
     "text": [
      "Model: \"sequential\"\n",
      "_________________________________________________________________\n",
      " Layer (type)                Output Shape              Param #   \n",
      "=================================================================\n",
      " lstm (LSTM)                 (None, 6573)              345660924 \n",
      "                                                                 \n",
      " softmax (Softmax)           (None, 6573)              0         \n",
      "                                                                 \n",
      "=================================================================\n",
      "Total params: 345,660,924\n",
      "Trainable params: 345,660,924\n",
      "Non-trainable params: 0\n",
      "_________________________________________________________________\n"
     ]
    }
   ],
   "source": [
    "model.summary()"
   ]
  },
  {
   "cell_type": "code",
   "execution_count": 20,
   "id": "530dc49b",
   "metadata": {},
   "outputs": [
    {
     "data": {
      "text/plain": [
       "<keras.callbacks.History at 0x280014a8fa0>"
      ]
     },
     "execution_count": 20,
     "metadata": {},
     "output_type": "execute_result"
    }
   ],
   "source": [
    "model.compile(loss='mean_squared_error', optimizer='adam', metrics = ['accuracy'])\n",
    "model.fit(X_train_tfidf, y_train_tfidf, epochs = 25, batch_size = 10, verbose = 0)"
   ]
  },
  {
   "cell_type": "code",
   "execution_count": 21,
   "id": "9a825ebf",
   "metadata": {},
   "outputs": [],
   "source": [
    "model.save('tfiddf_sepsis_model.h5')"
   ]
  },
  {
   "cell_type": "code",
   "execution_count": 22,
   "id": "3a758195",
   "metadata": {},
   "outputs": [],
   "source": [
    "tfidf_preds = model.predict(X_test_tfidf)"
   ]
  },
  {
   "cell_type": "code",
   "execution_count": 23,
   "id": "d22da22c",
   "metadata": {},
   "outputs": [
    {
     "data": {
      "text/plain": [
       "(40, 6573)"
      ]
     },
     "execution_count": 23,
     "metadata": {},
     "output_type": "execute_result"
    }
   ],
   "source": [
    "tfidf_preds.shape"
   ]
  },
  {
   "cell_type": "code",
   "execution_count": 24,
   "id": "0ac999b7",
   "metadata": {},
   "outputs": [],
   "source": [
    "tfidf_softmax = Softmax()"
   ]
  },
  {
   "cell_type": "code",
   "execution_count": 25,
   "id": "9be652b2",
   "metadata": {},
   "outputs": [],
   "source": [
    "predicted_labels = np.round(tf.math.reduce_sum(tfidf_softmax(tfidf_preds), axis = 1))"
   ]
  },
  {
   "cell_type": "code",
   "execution_count": 26,
   "id": "dbb1ca45",
   "metadata": {},
   "outputs": [],
   "source": [
    "predicted_labels = predicted_labels.astype(dtype = 'int')"
   ]
  },
  {
   "cell_type": "code",
   "execution_count": 27,
   "id": "20a6cb2b",
   "metadata": {},
   "outputs": [],
   "source": [
    "y_test_tfidf = y_test_tfidf.astype(dtype = 'int')"
   ]
  },
  {
   "cell_type": "code",
   "execution_count": 65,
   "id": "0ca54f83",
   "metadata": {},
   "outputs": [],
   "source": [
    "tfidf_accuracy = (predicted_labels == y_test_tfidf).sum() / len(predicted_labels)"
   ]
  },
  {
   "cell_type": "code",
   "execution_count": 29,
   "id": "5eb512e0",
   "metadata": {},
   "outputs": [],
   "source": [
    "tfidf_roc_auc = roc_auc_score(y_test_tfidf, predicted_labels)"
   ]
  },
  {
   "cell_type": "markdown",
   "id": "5ccc2631",
   "metadata": {},
   "source": [
    "## <span style = \"color:blue\">ClinicalBERT + LSTM Implementation</span>"
   ]
  },
  {
   "cell_type": "code",
   "execution_count": 30,
   "id": "950bc4c3",
   "metadata": {},
   "outputs": [
    {
     "name": "stderr",
     "output_type": "stream",
     "text": [
      "Some weights of the model checkpoint at emilyalsentzer/Bio_ClinicalBERT were not used when initializing BertModel: ['cls.predictions.transform.LayerNorm.bias', 'cls.predictions.transform.LayerNorm.weight', 'cls.predictions.bias', 'cls.predictions.decoder.weight', 'cls.predictions.transform.dense.weight', 'cls.seq_relationship.weight', 'cls.predictions.transform.dense.bias', 'cls.seq_relationship.bias']\n",
      "- This IS expected if you are initializing BertModel from the checkpoint of a model trained on another task or with another architecture (e.g. initializing a BertForSequenceClassification model from a BertForPreTraining model).\n",
      "- This IS NOT expected if you are initializing BertModel from the checkpoint of a model that you expect to be exactly identical (initializing a BertForSequenceClassification model from a BertForSequenceClassification model).\n"
     ]
    }
   ],
   "source": [
    "tokenizer = AutoTokenizer.from_pretrained(\"emilyalsentzer/Bio_ClinicalBERT\")\n",
    "model = AutoModel.from_pretrained(\"emilyalsentzer/Bio_ClinicalBERT\")\n",
    "conf = model.config"
   ]
  },
  {
   "cell_type": "code",
   "execution_count": 31,
   "id": "74caa765",
   "metadata": {},
   "outputs": [],
   "source": [
    "def BERT(inp):\n",
    "    '''\n",
    "    PARAMETERS:\n",
    "    \n",
    "    inp - Number of rows from DataFrame\n",
    "    \n",
    "    RETURNS:\n",
    "    \n",
    "    features - Feature sets corresponding to each note\n",
    "    '''\n",
    "    tensor_list = []\n",
    "    idx_list = []\n",
    "    for j in range(inp):\n",
    "        output = []\n",
    "#         print(f'The value of j is: {j}')\n",
    "        text_df = preprocessing(df_sample[j:j + 1])\n",
    "        if not text_df.TEXT.empty:\n",
    "            # Pass each sentence to the ClinicalBERT model\n",
    "            for i in range(len(text_df.TEXT)):\n",
    "    #             print(f'*******ANALYZING TEXT*******')\n",
    "#                 print(f'The length of TEXT is: {len(text_df.TEXT)}')\n",
    "                encoding = tokenizer(text_df.TEXT[i], return_tensors = 'pt')\n",
    "                bert_output = model(**encoding)\n",
    "                last_hidden_state = bert_output['last_hidden_state']\n",
    "    #             print(f'The value of last_hidden_state is: {last_hidden_state}')\n",
    "#                 print(f'The dimensions of last_hidden_state is: {last_hidden_state.size()}')\n",
    "                output.append(last_hidden_state)\n",
    "    #             print(f'The value of output is: {output}')\n",
    "#                 print(f'The length of output is: {len(output)}')\n",
    "    #             print(f'The length of TEXT is: {len(text_df.TEXT)}')\n",
    "            out_tensor = torch.cat(output, dim = 1)\n",
    "#             out_tensor = torch.cat((torch.as_tensor(output), torch.as_tensor(df_sample.SEPSIS.iloc[j])), dim = 1)\n",
    "    #         print(f'out_tensor: {out_tensor}')\n",
    "#             print(f'The shape of out_tensor is: {out_tensor.size()}')\n",
    "            out_tensor_mean = torch.mean(out_tensor, dim = 1)\n",
    "    #         print(f'The value of out_tensor_mean is: {out_tensor_mean}')\n",
    "#             print(f'The dimensions of out_tensor_mean is: {out_tensor_mean.size()}')\n",
    "            tensor_list.append(out_tensor_mean)\n",
    "#             print(f'The number of features in tensor_list is: {len(tensor_list)}')\n",
    "            features = torch.stack(tensor_list, dim = 0)\n",
    "            print(f'The shape of features is: {features.size()}')\n",
    "        else:\n",
    "            idx_list.append(j)\n",
    "    return(features, idx_list)"
   ]
  },
  {
   "cell_type": "code",
   "execution_count": 32,
   "id": "02da68b0",
   "metadata": {},
   "outputs": [
    {
     "name": "stdout",
     "output_type": "stream",
     "text": [
      "The shape of features is: torch.Size([1, 1, 768])\n",
      "The shape of features is: torch.Size([2, 1, 768])\n",
      "The shape of features is: torch.Size([3, 1, 768])\n",
      "The shape of features is: torch.Size([4, 1, 768])\n",
      "The shape of features is: torch.Size([5, 1, 768])\n",
      "The shape of features is: torch.Size([6, 1, 768])\n",
      "The shape of features is: torch.Size([7, 1, 768])\n",
      "The shape of features is: torch.Size([8, 1, 768])\n",
      "The shape of features is: torch.Size([9, 1, 768])\n",
      "The shape of features is: torch.Size([10, 1, 768])\n",
      "The shape of features is: torch.Size([11, 1, 768])\n",
      "The shape of features is: torch.Size([12, 1, 768])\n",
      "The shape of features is: torch.Size([13, 1, 768])\n",
      "The shape of features is: torch.Size([14, 1, 768])\n",
      "The shape of features is: torch.Size([15, 1, 768])\n",
      "The shape of features is: torch.Size([16, 1, 768])\n",
      "The shape of features is: torch.Size([17, 1, 768])\n",
      "The shape of features is: torch.Size([18, 1, 768])\n",
      "The shape of features is: torch.Size([19, 1, 768])\n",
      "The shape of features is: torch.Size([20, 1, 768])\n",
      "The shape of features is: torch.Size([21, 1, 768])\n",
      "The shape of features is: torch.Size([22, 1, 768])\n",
      "The shape of features is: torch.Size([23, 1, 768])\n",
      "The shape of features is: torch.Size([24, 1, 768])\n",
      "The shape of features is: torch.Size([25, 1, 768])\n",
      "The shape of features is: torch.Size([26, 1, 768])\n",
      "The shape of features is: torch.Size([27, 1, 768])\n",
      "The shape of features is: torch.Size([28, 1, 768])\n",
      "The shape of features is: torch.Size([29, 1, 768])\n",
      "The shape of features is: torch.Size([30, 1, 768])\n",
      "The shape of features is: torch.Size([31, 1, 768])\n",
      "The shape of features is: torch.Size([32, 1, 768])\n",
      "The shape of features is: torch.Size([33, 1, 768])\n",
      "The shape of features is: torch.Size([34, 1, 768])\n",
      "The shape of features is: torch.Size([35, 1, 768])\n",
      "The shape of features is: torch.Size([36, 1, 768])\n",
      "The shape of features is: torch.Size([37, 1, 768])\n",
      "The shape of features is: torch.Size([38, 1, 768])\n",
      "The shape of features is: torch.Size([39, 1, 768])\n",
      "The shape of features is: torch.Size([40, 1, 768])\n",
      "The shape of features is: torch.Size([41, 1, 768])\n",
      "The shape of features is: torch.Size([42, 1, 768])\n",
      "The shape of features is: torch.Size([43, 1, 768])\n",
      "The shape of features is: torch.Size([44, 1, 768])\n",
      "The shape of features is: torch.Size([45, 1, 768])\n",
      "The shape of features is: torch.Size([46, 1, 768])\n",
      "The shape of features is: torch.Size([47, 1, 768])\n",
      "The shape of features is: torch.Size([48, 1, 768])\n",
      "The shape of features is: torch.Size([49, 1, 768])\n",
      "The shape of features is: torch.Size([50, 1, 768])\n",
      "The shape of features is: torch.Size([51, 1, 768])\n",
      "The shape of features is: torch.Size([52, 1, 768])\n",
      "The shape of features is: torch.Size([53, 1, 768])\n",
      "The shape of features is: torch.Size([54, 1, 768])\n",
      "The shape of features is: torch.Size([55, 1, 768])\n",
      "The shape of features is: torch.Size([56, 1, 768])\n",
      "The shape of features is: torch.Size([57, 1, 768])\n",
      "The shape of features is: torch.Size([58, 1, 768])\n",
      "The shape of features is: torch.Size([59, 1, 768])\n",
      "The shape of features is: torch.Size([60, 1, 768])\n",
      "The shape of features is: torch.Size([61, 1, 768])\n",
      "The shape of features is: torch.Size([62, 1, 768])\n",
      "The shape of features is: torch.Size([63, 1, 768])\n",
      "The shape of features is: torch.Size([64, 1, 768])\n",
      "The shape of features is: torch.Size([65, 1, 768])\n",
      "The shape of features is: torch.Size([66, 1, 768])\n",
      "The shape of features is: torch.Size([67, 1, 768])\n",
      "The shape of features is: torch.Size([68, 1, 768])\n",
      "The shape of features is: torch.Size([69, 1, 768])\n",
      "The shape of features is: torch.Size([70, 1, 768])\n",
      "The shape of features is: torch.Size([71, 1, 768])\n",
      "The shape of features is: torch.Size([72, 1, 768])\n",
      "The shape of features is: torch.Size([73, 1, 768])\n",
      "The shape of features is: torch.Size([74, 1, 768])\n",
      "The shape of features is: torch.Size([75, 1, 768])\n",
      "The shape of features is: torch.Size([76, 1, 768])\n",
      "The shape of features is: torch.Size([77, 1, 768])\n",
      "The shape of features is: torch.Size([78, 1, 768])\n",
      "The shape of features is: torch.Size([79, 1, 768])\n",
      "The shape of features is: torch.Size([80, 1, 768])\n",
      "The shape of features is: torch.Size([81, 1, 768])\n",
      "The shape of features is: torch.Size([82, 1, 768])\n",
      "The shape of features is: torch.Size([83, 1, 768])\n",
      "The shape of features is: torch.Size([84, 1, 768])\n",
      "The shape of features is: torch.Size([85, 1, 768])\n",
      "The shape of features is: torch.Size([86, 1, 768])\n",
      "The shape of features is: torch.Size([87, 1, 768])\n",
      "The shape of features is: torch.Size([88, 1, 768])\n",
      "The shape of features is: torch.Size([89, 1, 768])\n",
      "The shape of features is: torch.Size([90, 1, 768])\n",
      "The shape of features is: torch.Size([91, 1, 768])\n",
      "The shape of features is: torch.Size([92, 1, 768])\n",
      "The shape of features is: torch.Size([93, 1, 768])\n",
      "The shape of features is: torch.Size([94, 1, 768])\n",
      "The shape of features is: torch.Size([95, 1, 768])\n",
      "The shape of features is: torch.Size([96, 1, 768])\n",
      "The shape of features is: torch.Size([97, 1, 768])\n",
      "The shape of features is: torch.Size([98, 1, 768])\n",
      "The shape of features is: torch.Size([99, 1, 768])\n",
      "The shape of features is: torch.Size([100, 1, 768])\n",
      "The shape of features is: torch.Size([101, 1, 768])\n",
      "The shape of features is: torch.Size([102, 1, 768])\n",
      "The shape of features is: torch.Size([103, 1, 768])\n",
      "The shape of features is: torch.Size([104, 1, 768])\n",
      "The shape of features is: torch.Size([105, 1, 768])\n",
      "The shape of features is: torch.Size([106, 1, 768])\n",
      "The shape of features is: torch.Size([107, 1, 768])\n",
      "The shape of features is: torch.Size([108, 1, 768])\n",
      "The shape of features is: torch.Size([109, 1, 768])\n",
      "The shape of features is: torch.Size([110, 1, 768])\n",
      "The shape of features is: torch.Size([111, 1, 768])\n",
      "The shape of features is: torch.Size([112, 1, 768])\n",
      "The shape of features is: torch.Size([113, 1, 768])\n",
      "The shape of features is: torch.Size([114, 1, 768])\n",
      "The shape of features is: torch.Size([115, 1, 768])\n",
      "The shape of features is: torch.Size([116, 1, 768])\n",
      "The shape of features is: torch.Size([117, 1, 768])\n",
      "The shape of features is: torch.Size([118, 1, 768])\n",
      "The shape of features is: torch.Size([119, 1, 768])\n",
      "The shape of features is: torch.Size([120, 1, 768])\n",
      "The shape of features is: torch.Size([121, 1, 768])\n",
      "The shape of features is: torch.Size([122, 1, 768])\n",
      "The shape of features is: torch.Size([123, 1, 768])\n",
      "The shape of features is: torch.Size([124, 1, 768])\n",
      "The shape of features is: torch.Size([125, 1, 768])\n",
      "The shape of features is: torch.Size([126, 1, 768])\n",
      "The shape of features is: torch.Size([127, 1, 768])\n",
      "The shape of features is: torch.Size([128, 1, 768])\n",
      "The shape of features is: torch.Size([129, 1, 768])\n",
      "The shape of features is: torch.Size([130, 1, 768])\n",
      "The shape of features is: torch.Size([131, 1, 768])\n",
      "The shape of features is: torch.Size([132, 1, 768])\n",
      "The shape of features is: torch.Size([133, 1, 768])\n",
      "The shape of features is: torch.Size([134, 1, 768])\n",
      "The shape of features is: torch.Size([135, 1, 768])\n",
      "The shape of features is: torch.Size([136, 1, 768])\n",
      "The shape of features is: torch.Size([137, 1, 768])\n",
      "The shape of features is: torch.Size([138, 1, 768])\n",
      "The shape of features is: torch.Size([139, 1, 768])\n",
      "The shape of features is: torch.Size([140, 1, 768])\n",
      "The shape of features is: torch.Size([141, 1, 768])\n",
      "The shape of features is: torch.Size([142, 1, 768])\n",
      "The shape of features is: torch.Size([143, 1, 768])\n",
      "The shape of features is: torch.Size([144, 1, 768])\n",
      "The shape of features is: torch.Size([145, 1, 768])\n",
      "The shape of features is: torch.Size([146, 1, 768])\n",
      "The shape of features is: torch.Size([147, 1, 768])\n",
      "The shape of features is: torch.Size([148, 1, 768])\n",
      "The shape of features is: torch.Size([149, 1, 768])\n",
      "The shape of features is: torch.Size([150, 1, 768])\n",
      "The shape of features is: torch.Size([151, 1, 768])\n",
      "The shape of features is: torch.Size([152, 1, 768])\n",
      "The shape of features is: torch.Size([153, 1, 768])\n",
      "The shape of features is: torch.Size([154, 1, 768])\n",
      "The shape of features is: torch.Size([155, 1, 768])\n",
      "The shape of features is: torch.Size([156, 1, 768])\n",
      "The shape of features is: torch.Size([157, 1, 768])\n",
      "The shape of features is: torch.Size([158, 1, 768])\n",
      "The shape of features is: torch.Size([159, 1, 768])\n",
      "The shape of features is: torch.Size([160, 1, 768])\n",
      "The shape of features is: torch.Size([161, 1, 768])\n",
      "The shape of features is: torch.Size([162, 1, 768])\n",
      "The shape of features is: torch.Size([163, 1, 768])\n",
      "The shape of features is: torch.Size([164, 1, 768])\n",
      "The shape of features is: torch.Size([165, 1, 768])\n",
      "The shape of features is: torch.Size([166, 1, 768])\n",
      "The shape of features is: torch.Size([167, 1, 768])\n",
      "The shape of features is: torch.Size([168, 1, 768])\n",
      "The shape of features is: torch.Size([169, 1, 768])\n",
      "The shape of features is: torch.Size([170, 1, 768])\n",
      "The shape of features is: torch.Size([171, 1, 768])\n",
      "The shape of features is: torch.Size([172, 1, 768])\n",
      "The shape of features is: torch.Size([173, 1, 768])\n",
      "The shape of features is: torch.Size([174, 1, 768])\n",
      "The shape of features is: torch.Size([175, 1, 768])\n",
      "The shape of features is: torch.Size([176, 1, 768])\n",
      "The shape of features is: torch.Size([177, 1, 768])\n",
      "The shape of features is: torch.Size([178, 1, 768])\n",
      "The shape of features is: torch.Size([179, 1, 768])\n",
      "The shape of features is: torch.Size([180, 1, 768])\n",
      "The shape of features is: torch.Size([181, 1, 768])\n",
      "The shape of features is: torch.Size([182, 1, 768])\n",
      "The shape of features is: torch.Size([183, 1, 768])\n",
      "The shape of features is: torch.Size([184, 1, 768])\n",
      "The shape of features is: torch.Size([185, 1, 768])\n",
      "The shape of features is: torch.Size([186, 1, 768])\n",
      "The shape of features is: torch.Size([187, 1, 768])\n",
      "The shape of features is: torch.Size([188, 1, 768])\n",
      "The shape of features is: torch.Size([189, 1, 768])\n",
      "The shape of features is: torch.Size([190, 1, 768])\n",
      "The shape of features is: torch.Size([191, 1, 768])\n",
      "The shape of features is: torch.Size([192, 1, 768])\n",
      "The shape of features is: torch.Size([193, 1, 768])\n",
      "The shape of features is: torch.Size([194, 1, 768])\n",
      "The shape of features is: torch.Size([195, 1, 768])\n",
      "The shape of features is: torch.Size([196, 1, 768])\n",
      "The shape of features is: torch.Size([197, 1, 768])\n",
      "The shape of features is: torch.Size([198, 1, 768])\n",
      "The shape of features is: torch.Size([199, 1, 768])\n"
     ]
    }
   ],
   "source": [
    "features = BERT(sample_df.shape[0])"
   ]
  },
  {
   "cell_type": "code",
   "execution_count": 33,
   "id": "7c9e6303",
   "metadata": {},
   "outputs": [],
   "source": [
    "sample_df = sample_df.drop(sample_df.index[features[1][0]])"
   ]
  },
  {
   "cell_type": "code",
   "execution_count": 34,
   "id": "5c9e4720",
   "metadata": {},
   "outputs": [],
   "source": [
    "labels = sample_df.SEPSIS.tolist()"
   ]
  },
  {
   "cell_type": "code",
   "execution_count": 35,
   "id": "4a02db15",
   "metadata": {},
   "outputs": [],
   "source": [
    "labels = torch.as_tensor(labels)"
   ]
  },
  {
   "cell_type": "code",
   "execution_count": 42,
   "id": "d9053493",
   "metadata": {},
   "outputs": [],
   "source": [
    "X_train_lstm, X_test_lstm, y_train_lstm, y_test_lstm = train_test_split(features[0], labels, train_size = 0.8, \n",
    "                                                                        test_size = 0.2, shuffle = True)"
   ]
  },
  {
   "cell_type": "code",
   "execution_count": 43,
   "id": "e07186c0",
   "metadata": {},
   "outputs": [],
   "source": [
    "X_train_lstm = tf.convert_to_tensor(X_train_lstm.detach().numpy())"
   ]
  },
  {
   "cell_type": "code",
   "execution_count": 44,
   "id": "bd365daf",
   "metadata": {},
   "outputs": [],
   "source": [
    "# Convert PyTorch tensor to Tensorflow tensor\n",
    "X_test_lstm = tf.convert_to_tensor(X_test_lstm.detach().numpy())\n",
    "y_train_lstm = tf.convert_to_tensor(y_train_lstm.detach().numpy())\n",
    "y_test_lstm = tf.convert_to_tensor(y_test_lstm.detach().numpy())"
   ]
  },
  {
   "cell_type": "code",
   "execution_count": 45,
   "id": "12a9a2f6",
   "metadata": {},
   "outputs": [],
   "source": [
    "model = Sequential()\n",
    "model.add(LSTM(768, input_shape = (None, 768)))\n",
    "model.add(Softmax())"
   ]
  },
  {
   "cell_type": "code",
   "execution_count": 46,
   "id": "14379cdb",
   "metadata": {},
   "outputs": [
    {
     "name": "stdout",
     "output_type": "stream",
     "text": [
      "Model: \"sequential_1\"\n",
      "_________________________________________________________________\n",
      " Layer (type)                Output Shape              Param #   \n",
      "=================================================================\n",
      " lstm_1 (LSTM)               (None, 768)               4721664   \n",
      "                                                                 \n",
      " softmax_2 (Softmax)         (None, 768)               0         \n",
      "                                                                 \n",
      "=================================================================\n",
      "Total params: 4,721,664\n",
      "Trainable params: 4,721,664\n",
      "Non-trainable params: 0\n",
      "_________________________________________________________________\n"
     ]
    }
   ],
   "source": [
    "model.summary()"
   ]
  },
  {
   "cell_type": "code",
   "execution_count": 47,
   "id": "c872978e",
   "metadata": {},
   "outputs": [
    {
     "data": {
      "text/plain": [
       "<keras.callbacks.History at 0x28090925d60>"
      ]
     },
     "execution_count": 47,
     "metadata": {},
     "output_type": "execute_result"
    }
   ],
   "source": [
    "model.compile(loss = 'mse', optimizer = 'adam')\n",
    "model.fit(X_train_lstm, y_train_lstm, epochs = 25, batch_size = 10, shuffle = False, verbose = 0)"
   ]
  },
  {
   "cell_type": "code",
   "execution_count": 48,
   "id": "693a02e4",
   "metadata": {},
   "outputs": [],
   "source": [
    "model.save('lstm_sepsis_model.h5')"
   ]
  },
  {
   "cell_type": "code",
   "execution_count": 49,
   "id": "05f7234c",
   "metadata": {},
   "outputs": [],
   "source": [
    "lstm_preds = model.predict(X_test_lstm)"
   ]
  },
  {
   "cell_type": "code",
   "execution_count": 50,
   "id": "b6dfdb17",
   "metadata": {},
   "outputs": [],
   "source": [
    "lstm_softmax = Softmax()"
   ]
  },
  {
   "cell_type": "code",
   "execution_count": 51,
   "id": "22a359ad",
   "metadata": {},
   "outputs": [],
   "source": [
    "y_test_lstm = tf.cast(y_test_lstm, dtype = tf.int32)"
   ]
  },
  {
   "cell_type": "code",
   "execution_count": 52,
   "id": "e6386bd3",
   "metadata": {},
   "outputs": [],
   "source": [
    "lstm_preds = lstm_preds.sum(axis = 1).reshape(-1, 1)"
   ]
  },
  {
   "cell_type": "code",
   "execution_count": 56,
   "id": "96c849ce",
   "metadata": {},
   "outputs": [],
   "source": [
    "lstm_preds = np.round(lstm_preds)"
   ]
  },
  {
   "cell_type": "code",
   "execution_count": 58,
   "id": "68a0e7fc",
   "metadata": {},
   "outputs": [
    {
     "name": "stdout",
     "output_type": "stream",
     "text": [
      "0.425\n",
      "0.5\n"
     ]
    }
   ],
   "source": [
    "# lstm_preds = lstm_preds.astype(dtype = 'int')\n",
    "# y_test_lstm = y_test_lstm.astype(dtype = 'int')\n",
    "accuracy = accuracy_score(y_test_lstm, lstm_preds)\n",
    "print(accuracy)\n",
    "roc_auc_metric = roc_auc_score(y_test_lstm, lstm_preds)\n",
    "print(roc_auc_metric)"
   ]
  },
  {
   "cell_type": "markdown",
   "id": "d71fe1bd",
   "metadata": {},
   "source": [
    "## <span style = \"color:blue\">Results</span>"
   ]
  },
  {
   "cell_type": "code",
   "execution_count": 59,
   "id": "40b64af0",
   "metadata": {},
   "outputs": [
    {
     "data": {
      "image/png": "[encoded data removed]",
      "text/plain": [
       "<Figure size 432x288 with 1 Axes>"
      ]
     },
     "metadata": {
      "needs_background": "light"
     },
     "output_type": "display_data"
    }
   ],
   "source": [
    "fpr1, tpr1, _ = roc_curve(y_test_lstm,  lstm_preds)\n",
    "fpr2, tpr2, _ = roc_curve(y_test_tfidf, predicted_labels)\n",
    "\n",
    "#create ROC curve\n",
    "plt.plot(fpr1,tpr1, color = 'red')\n",
    "plt.plot(fpr2, tpr2, linestyle = '--', color = 'green')\n",
    "plt.ylabel('True Positive Rate')\n",
    "plt.xlabel('False Positive Rate')\n",
    "plt.title(\"Receiver operating characteristic example\")\n",
    "plt.legend(['ClinicalBERT + LSTM', 'TF-IDF + LSTM'], loc = \"best\")\n",
    "plt.show()"
   ]
  },
  {
   "cell_type": "code",
   "execution_count": 67,
   "id": "713384e8",
   "metadata": {},
   "outputs": [],
   "source": [
    "final_table = pd.DataFrame({\n",
    "                            'Metric': ['Accuracy', 'ROC-AUC Score'],\n",
    "                            'ClinicalBERT + LSTM': [accuracy, roc_auc_metric],\n",
    "                            'TF-IDF + LSTM': [tfidf_accuracy, tfidf_roc_auc]})"
   ]
  },
  {
   "cell_type": "code",
   "execution_count": 68,
   "id": "4e9503df",
   "metadata": {},
   "outputs": [
    {
     "data": {
      "text/html": [
       "<div>\n",
       "<style scoped>\n",
       "    .dataframe tbody tr th:only-of-type {\n",
       "        vertical-align: middle;\n",
       "    }\n",
       "\n",
       "    .dataframe tbody tr th {\n",
       "        vertical-align: top;\n",
       "    }\n",
       "\n",
       "    .dataframe thead th {\n",
       "        text-align: right;\n",
       "    }\n",
       "</style>\n",
       "<table border=\"1\" class=\"dataframe\">\n",
       "  <thead>\n",
       "    <tr style=\"text-align: right;\">\n",
       "      <th></th>\n",
       "      <th>Metric</th>\n",
       "      <th>ClinicalBERT + LSTM</th>\n",
       "      <th>TF-IDF + LSTM</th>\n",
       "    </tr>\n",
       "  </thead>\n",
       "  <tbody>\n",
       "    <tr>\n",
       "      <th>0</th>\n",
       "      <td>Accuracy</td>\n",
       "      <td>0.425</td>\n",
       "      <td>0.5</td>\n",
       "    </tr>\n",
       "    <tr>\n",
       "      <th>1</th>\n",
       "      <td>ROC-AUC Score</td>\n",
       "      <td>0.500</td>\n",
       "      <td>0.5</td>\n",
       "    </tr>\n",
       "  </tbody>\n",
       "</table>\n",
       "</div>"
      ],
      "text/plain": [
       "          Metric  ClinicalBERT + LSTM  TF-IDF + LSTM\n",
       "0       Accuracy                0.425            0.5\n",
       "1  ROC-AUC Score                0.500            0.5"
      ]
     },
     "execution_count": 68,
     "metadata": {},
     "output_type": "execute_result"
    }
   ],
   "source": [
    "final_table"
   ]
  },
  {
   "cell_type": "code",
   "execution_count": null,
   "id": "b2e8d862",
   "metadata": {},
   "outputs": [],
   "source": []
  }
 ],
 "metadata": {
  "kernelspec": {
   "display_name": "Python 3 (ipykernel)",
   "language": "python",
   "name": "python3"
  },
  "language_info": {
   "codemirror_mode": {
    "name": "ipython",
    "version": 3
   },
   "file_extension": ".py",
   "mimetype": "text/x-python",
   "name": "python",
   "nbconvert_exporter": "python",
   "pygments_lexer": "ipython3",
   "version": "3.9.7"
  }
 },
 "nbformat": 4,
 "nbformat_minor": 5
}
